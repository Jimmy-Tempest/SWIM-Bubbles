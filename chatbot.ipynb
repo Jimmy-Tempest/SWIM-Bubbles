{
 "cells": [
  {
   "cell_type": "code",
   "execution_count": 1,
   "metadata": {},
   "outputs": [],
   "source": [
    "# import data\n",
    "with open(\"./data/movie_lines.txt\", encoding=\"utf-8\", errors=\"ignore\") as file:\n",
    "    lines = file.read().split(\"\\n\")\n",
    "\n",
    "with open(\"./data/movie_conversations.txt\", encoding=\"utf-8\", errors=\"ignore\") as file:\n",
    "    convs = file.read().split(\"\\n\")"
   ]
  },
  {
   "cell_type": "code",
   "execution_count": 2,
   "metadata": {},
   "outputs": [],
   "source": [
    "# import exchange impormation\n",
    "exchn = []\n",
    "for conv in convs:\n",
    "    exchn.append(conv.split(\" +++$+++ \")[-1][1:-1].replace(\"'\", \"\").replace(\",\", \"\").split())"
   ]
  },
  {
   "cell_type": "code",
   "execution_count": 3,
   "metadata": {},
   "outputs": [],
   "source": [
    "# import dialog\n",
    "diag = {}\n",
    "for line in lines:\n",
    "    index = line.split(\" +++$+++ \")\n",
    "    diag[index[0]] = index[-1]"
   ]
  },
  {
   "cell_type": "code",
   "execution_count": 4,
   "metadata": {},
   "outputs": [],
   "source": [
    "question = []\n",
    "answer = []\n",
    "\n",
    "for conv in exchn:\n",
    "    for i in range(len(conv) - 1):\n",
    "        question.append(diag[conv[i]])\n",
    "        answer.append(diag[conv[i+1]])\n",
    "del(conv, convs, diag, exchn, i, line, lines)"
   ]
  },
  {
   "cell_type": "code",
   "execution_count": 5,
   "metadata": {},
   "outputs": [],
   "source": [
    "sorted_ques = []\n",
    "sorted_ans = []\n",
    "\n",
    "for i in range(len(question)):\n",
    "    if len(question[i]) < 13:\n",
    "        sorted_ques.append(question[i])\n",
    "        sorted_ans.append(answer[i])"
   ]
  },
  {
   "cell_type": "code",
   "execution_count": 6,
   "metadata": {},
   "outputs": [],
   "source": [
    "from utils.preprocess import clean_text\n",
    "\n",
    "clean_ques = [clean_text(ques) for ques in sorted_ques]\n",
    "clean_ans = [clean_text(ans) for ans in sorted_ans]"
   ]
  },
  {
   "cell_type": "code",
   "execution_count": 7,
   "metadata": {},
   "outputs": [],
   "source": [
    "for i in range(len(clean_ans)):\n",
    "    clean_ans[i] = ' '.join(clean_ans[i].split()[:11])\n"
   ]
  },
  {
   "cell_type": "code",
   "execution_count": 8,
   "metadata": {},
   "outputs": [],
   "source": [
    "clean_ans = clean_ans[:30000]\n",
    "clean_ques = clean_ques[:30000]"
   ]
  },
  {
   "cell_type": "code",
   "execution_count": 9,
   "metadata": {},
   "outputs": [],
   "source": [
    "# count occurences\n",
    "word2count = {}\n",
    "\n",
    "for line in clean_ques:\n",
    "    for word in line.split():\n",
    "        if word not in word2count:\n",
    "            word2count[word] = 1\n",
    "        else:\n",
    "            word2count[word] += 1\n",
    "for line in clean_ans:\n",
    "    for word in line.split():\n",
    "        if word not in word2count:\n",
    "            word2count[word] = 1\n",
    "        else:\n",
    "            word2count[word] += 1\n"
   ]
  },
  {
   "cell_type": "code",
   "execution_count": 10,
   "metadata": {},
   "outputs": [],
   "source": [
    "# delete\n",
    "del(word, line)\n",
    "\n",
    "\n",
    "# remove less frequent \n",
    "thresh = 5\n",
    "\n",
    "vocab = {}\n",
    "word_num = 0\n",
    "for word, count in word2count.items():\n",
    "    if count >= thresh:\n",
    "        vocab[word] = word_num\n",
    "        word_num += 1"
   ]
  },
  {
   "cell_type": "code",
   "execution_count": 11,
   "metadata": {},
   "outputs": [],
   "source": [
    "for i in range(len(clean_ans)):\n",
    "    clean_ans[i] = '<SOS> ' + clean_ans[i] + ' <EOS>'"
   ]
  },
  {
   "cell_type": "code",
   "execution_count": 12,
   "metadata": {},
   "outputs": [],
   "source": [
    "tokens = ['<PAD>', '<EOS>', '<OUT>', '<SOS>']\n",
    "x = len(vocab)\n",
    "for token in tokens:\n",
    "    vocab[token] = x\n",
    "    x += 1"
   ]
  },
  {
   "cell_type": "code",
   "execution_count": 13,
   "metadata": {},
   "outputs": [],
   "source": [
    "vocab['cameron'] = vocab['<PAD>']\n",
    "vocab['<PAD>'] = 0"
   ]
  },
  {
   "cell_type": "code",
   "execution_count": 14,
   "metadata": {},
   "outputs": [],
   "source": [
    "inv_vocab = {w:v for v, w in vocab.items()}"
   ]
  },
  {
   "cell_type": "code",
   "execution_count": 15,
   "metadata": {},
   "outputs": [],
   "source": [
    "encoder_inp = []\n",
    "for line in clean_ques:\n",
    "    lst = []\n",
    "    for word in line.split():\n",
    "        if word not in vocab:\n",
    "            lst.append(vocab['<OUT>'])\n",
    "        else:\n",
    "            lst.append(vocab[word])\n",
    "        \n",
    "    encoder_inp.append(lst)\n",
    "\n",
    "decoder_inp = []\n",
    "for line in clean_ans:\n",
    "    lst = []\n",
    "    for word in line.split():\n",
    "        if word not in vocab:\n",
    "            lst.append(vocab['<OUT>'])\n",
    "        else:\n",
    "            lst.append(vocab[word])        \n",
    "    decoder_inp.append(lst)\n"
   ]
  },
  {
   "cell_type": "code",
   "execution_count": 22,
   "metadata": {},
   "outputs": [],
   "source": [
    "from tensorflow.keras.preprocessing.sequence import pad_sequences\n",
    "encoder_inp = pad_sequences(encoder_inp, 13, padding='post', truncating='post')\n",
    "decoder_inp = pad_sequences(decoder_inp, 13, padding='post', truncating='post')"
   ]
  },
  {
   "cell_type": "code",
   "execution_count": 23,
   "metadata": {},
   "outputs": [],
   "source": [
    "decoder_final_output = []\n",
    "for i in decoder_inp:\n",
    "    decoder_final_output.append(i[1:]) \n",
    "\n",
    "decoder_final_output = pad_sequences(decoder_final_output, 13, padding='post', truncating='post')"
   ]
  },
  {
   "cell_type": "code",
   "execution_count": 25,
   "metadata": {},
   "outputs": [],
   "source": [
    "from tensorflow.keras.utils import to_categorical\n",
    "decoder_final_output = to_categorical(decoder_final_output, len(vocab))"
   ]
  },
  {
   "cell_type": "code",
   "execution_count": 28,
   "metadata": {},
   "outputs": [
    {
     "name": "stdout",
     "output_type": "stream",
     "text": [
      "Epoch 1/4\n",
      "938/938 [==============================] - 110s 113ms/step - loss: 3.0876 - acc: 0.4952\n",
      "Epoch 2/4\n",
      "938/938 [==============================] - 107s 114ms/step - loss: 2.7289 - acc: 0.5333\n",
      "Epoch 3/4\n",
      "938/938 [==============================] - 106s 113ms/step - loss: 2.6014 - acc: 0.5430\n",
      "Epoch 4/4\n",
      "938/938 [==============================] - 105s 112ms/step - loss: 2.5279 - acc: 0.5478\n"
     ]
    },
    {
     "data": {
      "text/plain": [
       "<keras.callbacks.History at 0x1b4e1255f08>"
      ]
     },
     "execution_count": 28,
     "metadata": {},
     "output_type": "execute_result"
    }
   ],
   "source": [
    "from tensorflow.keras.models import Model\n",
    "from tensorflow.keras.layers import Dense, Embedding, LSTM, Input\n",
    "\n",
    "\n",
    "enc_inp = Input(shape=(13, ))\n",
    "dec_inp = Input(shape=(13, ))\n",
    "\n",
    "\n",
    "VOCAB_SIZE = len(vocab)\n",
    "embed = Embedding(VOCAB_SIZE+1, output_dim=50, \n",
    "                  input_length=13,\n",
    "                  trainable=True                  \n",
    "                  )\n",
    "\n",
    "\n",
    "enc_embed = embed(enc_inp)\n",
    "enc_lstm = LSTM(400, return_sequences=True, return_state=True)\n",
    "enc_op, h, c = enc_lstm(enc_embed)\n",
    "enc_states = [h, c]\n",
    "\n",
    "\n",
    "\n",
    "dec_embed = embed(dec_inp)\n",
    "dec_lstm = LSTM(400, return_sequences=True, return_state=True)\n",
    "dec_op, _, _ = dec_lstm(dec_embed, initial_state=enc_states)\n",
    "\n",
    "dense = Dense(VOCAB_SIZE, activation='softmax')\n",
    "\n",
    "dense_op = dense(dec_op)\n",
    "\n",
    "model = Model([enc_inp, dec_inp], dense_op)\n",
    "\n",
    "\n",
    "\n",
    "\n",
    "model.compile(loss='categorical_crossentropy',metrics=['acc'],optimizer='adam')\n",
    "\n",
    "model.fit([encoder_inp, decoder_inp],decoder_final_output,epochs=4)"
   ]
  },
  {
   "cell_type": "code",
   "execution_count": 30,
   "metadata": {},
   "outputs": [],
   "source": [
    "model.save(\"model/model.h5\")"
   ]
  },
  {
   "cell_type": "code",
   "execution_count": 29,
   "metadata": {},
   "outputs": [],
   "source": [
    "from tensorflow.keras.models import Model\n",
    "from tensorflow.keras.layers import Input\n",
    "\n",
    "\n",
    "enc_model = Model([enc_inp], enc_states)\n",
    "\n",
    "\n",
    "\n",
    "# decoder Model\n",
    "decoder_state_input_h = Input(shape=(400,))\n",
    "decoder_state_input_c = Input(shape=(400,))\n",
    "\n",
    "decoder_states_inputs = [decoder_state_input_h, decoder_state_input_c]\n",
    "\n",
    "\n",
    "decoder_outputs, state_h, state_c = dec_lstm(dec_embed , \n",
    "                                    initial_state=decoder_states_inputs)\n",
    "\n",
    "\n",
    "decoder_states = [state_h, state_c]\n",
    "\n",
    "\n",
    "dec_model = Model([dec_inp]+ decoder_states_inputs,\n",
    "                                      [decoder_outputs]+ decoder_states)"
   ]
  },
  {
   "cell_type": "code",
   "execution_count": 31,
   "metadata": {},
   "outputs": [
    {
     "name": "stdout",
     "output_type": "stream",
     "text": [
      "##########################################\n",
      "#       start chatting ver. 1.0          #\n",
      "##########################################\n"
     ]
    },
    {
     "ename": "NameError",
     "evalue": "name 'np' is not defined",
     "output_type": "error",
     "traceback": [
      "\u001b[1;31m---------------------------------------------------------------------------\u001b[0m",
      "\u001b[1;31mNameError\u001b[0m                                 Traceback (most recent call last)",
      "\u001b[1;32m~\\AppData\\Local\\Temp/ipykernel_60704/2858541054.py\u001b[0m in \u001b[0;36m<module>\u001b[1;34m\u001b[0m\n\u001b[0;32m     36\u001b[0m     \u001b[0mstat\u001b[0m \u001b[1;33m=\u001b[0m \u001b[0menc_model\u001b[0m\u001b[1;33m.\u001b[0m\u001b[0mpredict\u001b[0m\u001b[1;33m(\u001b[0m \u001b[0mtxt\u001b[0m \u001b[1;33m)\u001b[0m\u001b[1;33m\u001b[0m\u001b[1;33m\u001b[0m\u001b[0m\n\u001b[0;32m     37\u001b[0m \u001b[1;33m\u001b[0m\u001b[0m\n\u001b[1;32m---> 38\u001b[1;33m     \u001b[0mempty_target_seq\u001b[0m \u001b[1;33m=\u001b[0m \u001b[0mnp\u001b[0m\u001b[1;33m.\u001b[0m\u001b[0mzeros\u001b[0m\u001b[1;33m(\u001b[0m \u001b[1;33m(\u001b[0m \u001b[1;36m1\u001b[0m \u001b[1;33m,\u001b[0m \u001b[1;36m1\u001b[0m\u001b[1;33m)\u001b[0m \u001b[1;33m)\u001b[0m\u001b[1;33m\u001b[0m\u001b[1;33m\u001b[0m\u001b[0m\n\u001b[0m\u001b[0;32m     39\u001b[0m      \u001b[1;31m##   empty_target_seq = [0]\u001b[0m\u001b[1;33m\u001b[0m\u001b[1;33m\u001b[0m\u001b[1;33m\u001b[0m\u001b[0m\n\u001b[0;32m     40\u001b[0m \u001b[1;33m\u001b[0m\u001b[0m\n",
      "\u001b[1;31mNameError\u001b[0m: name 'np' is not defined"
     ]
    }
   ],
   "source": [
    "import numpy as np\n",
    "\n",
    "enc_model = keras.models.load_model(\"model/model.h5\")\n",
    "print(\"##########################################\")\n",
    "print(\"#       start chatting ver. 1.0          #\")\n",
    "print(\"##########################################\")\n",
    "\n",
    "\n",
    "prepro1 = \"\"\n",
    "while prepro1 != 'q':\n",
    "    prepro1  = input(\"you : \")\n",
    "    ## prepro1 = \"Hello\"\n",
    "\n",
    "    prepro1 = clean_text(prepro1)\n",
    "    ## prepro1 = \"hello\"\n",
    "\n",
    "    prepro = [prepro1]\n",
    "    ## prepro1 = [\"hello\"]\n",
    "\n",
    "    txt = []\n",
    "    for x in prepro:\n",
    "        # x = \"hello\"\n",
    "        lst = []\n",
    "        for y in x.split():\n",
    "            ## y = \"hello\"\n",
    "            try:\n",
    "                lst.append(vocab[y])\n",
    "                ## vocab['hello'] = 454\n",
    "            except:\n",
    "                lst.append(vocab['<OUT>'])\n",
    "        txt.append(lst)\n",
    "\n",
    "    ## txt = [[454]]\n",
    "    txt = pad_sequences(txt, 13, padding='post')\n",
    "\n",
    "    ## txt = [[454,0,0,0,.........13]]\n",
    "\n",
    "    stat = enc_model.predict( txt )\n",
    "\n",
    "    empty_target_seq = np.zeros( ( 1 , 1) )\n",
    "     ##   empty_target_seq = [0]\n",
    "\n",
    "\n",
    "    empty_target_seq[0, 0] = vocab['<SOS>']\n",
    "    ##    empty_target_seq = [255]\n",
    "\n",
    "    stop_condition = False\n",
    "    decoded_translation = ''\n",
    "\n",
    "    while not stop_condition :\n",
    "\n",
    "        dec_outputs , h, c= dec_model.predict([ empty_target_seq] + stat )\n",
    "        decoder_concat_input = dense(dec_outputs)\n",
    "        ## decoder_concat_input = [0.1, 0.2, .4, .0, ...............]\n",
    "\n",
    "        sampled_word_index = np.argmax( decoder_concat_input[0, -1, :] )\n",
    "        ## sampled_word_index = [2]\n",
    "\n",
    "        sampled_word = inv_vocab[sampled_word_index] + ' '\n",
    "\n",
    "        ## inv_vocab[2] = 'hi'\n",
    "        ## sampled_word = 'hi '\n",
    "\n",
    "        if sampled_word != '<EOS> ':\n",
    "            decoded_translation += sampled_word  \n",
    "\n",
    "        if sampled_word == '<EOS> ' or len(decoded_translation.split()) > 13:\n",
    "            stop_condition = True \n",
    "\n",
    "        empty_target_seq = np.zeros( ( 1 , 1 ) )  \n",
    "        empty_target_seq[ 0 , 0 ] = sampled_word_index\n",
    "        ## <SOS> - > hi\n",
    "        ## hi --> <EOS>\n",
    "        stat = [h, c]  \n",
    "\n",
    "    print(\"chatbot attention : \", decoded_translation )\n",
    "    print(\"==============================================\")  "
   ]
  }
 ],
 "metadata": {
  "interpreter": {
   "hash": "6fef89eb0640262de3df15d8489553d44c76adfc822bae3ea1500fdf46b4ad55"
  },
  "kernelspec": {
   "display_name": "Python 3.7.6 64-bit ('venv': venv)",
   "name": "python3"
  },
  "language_info": {
   "codemirror_mode": {
    "name": "ipython",
    "version": 3
   },
   "file_extension": ".py",
   "mimetype": "text/x-python",
   "name": "python",
   "nbconvert_exporter": "python",
   "pygments_lexer": "ipython3",
   "version": "3.7.6"
  },
  "orig_nbformat": 4
 },
 "nbformat": 4,
 "nbformat_minor": 2
}
