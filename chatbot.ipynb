{
 "cells": [
  {
   "cell_type": "code",
   "execution_count": 1,
   "metadata": {},
   "outputs": [],
   "source": [
    "from utils.preprocess import import_movie_data\n",
    "\n",
    "question, answer = import_movie_data(\"./data/movie_lines.txt\", \"./data/movie_conversations.txt\")"
   ]
  },
  {
   "cell_type": "code",
   "execution_count": 2,
   "metadata": {},
   "outputs": [],
   "source": [
    "from utils.preprocess import clean_text\n",
    "\n",
    "question = [clean_text(ques) for ques in question]\n",
    "answer = [clean_text(ans) for ans in answer]\n",
    "\n",
    "pairs = list(zip(question, answer))\n"
   ]
  },
  {
   "cell_type": "code",
   "execution_count": 3,
   "metadata": {},
   "outputs": [],
   "source": [
    "from utils.preprocess import add_token\n",
    "\n",
    "docs, tokens, num_token = add_token(pairs, pairsnum=1000)\n",
    "input_docs, target_docs = docs\n",
    "input_tokens, target_tokens = tokens\n",
    "num_encoder_tokens, num_decoder_tokens = num_token"
   ]
  },
  {
   "cell_type": "code",
   "execution_count": 4,
   "metadata": {},
   "outputs": [],
   "source": [
    "from utils.preprocess import create_feature_dict\n",
    "\n",
    "feature, reversed_feature = create_feature_dict(input_tokens, target_tokens)\n",
    "input_features_dict, target_features_dict = feature\n",
    "reverse_input_features_dict, reverse_target_features_dict = reversed_feature"
   ]
  },
  {
   "cell_type": "code",
   "execution_count": 5,
   "metadata": {},
   "outputs": [],
   "source": [
    "from utils.preprocess import create_training_data\n",
    "\n",
    "encoder_input_data, decoder_data, seq_length = create_training_data(\n",
    "    input_docs, target_docs, num_encoder_tokens, num_decoder_tokens, input_features_dict, target_features_dict)\n",
    "\n",
    "decoder_input_data, decoder_target_data = decoder_data\n",
    "max_encoder_seq_length, max_decoder_seq_length = seq_length"
   ]
  },
  {
   "cell_type": "code",
   "execution_count": 6,
   "metadata": {},
   "outputs": [],
   "source": [
    "from utils.model import create_model\n",
    "#The batch size and number of epochs\n",
    "batch_size = 8\n",
    "epochs = 600\n",
    "\n",
    "# create model\n",
    "model = create_model(num_encoder_tokens, num_decoder_tokens)"
   ]
  },
  {
   "cell_type": "code",
   "execution_count": 7,
   "metadata": {},
   "outputs": [
    {
     "name": "stdout",
     "output_type": "stream",
     "text": [
      "Epoch 1/600\n",
      "100/100 [==============================] - 94s 894ms/step - loss: 0.4622 - accuracy: 0.0109 - val_loss: 0.5694 - val_accuracy: 0.0084\n",
      "Epoch 2/600\n",
      "100/100 [==============================] - 84s 845ms/step - loss: 0.4477 - accuracy: 0.0083 - val_loss: 0.5678 - val_accuracy: 0.0084\n",
      "Epoch 3/600\n",
      " 86/100 [========================>.....] - ETA: 11s - loss: 0.4536 - accuracy: 0.0083"
     ]
    }
   ],
   "source": [
    "model.fit([encoder_input_data, decoder_input_data], decoder_target_data, batch_size = batch_size, epochs = epochs, validation_split = 0.2)"
   ]
  }
 ],
 "metadata": {
  "interpreter": {
   "hash": "6fef89eb0640262de3df15d8489553d44c76adfc822bae3ea1500fdf46b4ad55"
  },
  "kernelspec": {
   "display_name": "Python 3.7.6 64-bit ('venv': venv)",
   "name": "python3"
  },
  "language_info": {
   "codemirror_mode": {
    "name": "ipython",
    "version": 3
   },
   "file_extension": ".py",
   "mimetype": "text/x-python",
   "name": "python",
   "nbconvert_exporter": "python",
   "pygments_lexer": "ipython3",
   "version": "3.7.6"
  },
  "orig_nbformat": 4
 },
 "nbformat": 4,
 "nbformat_minor": 2
}
